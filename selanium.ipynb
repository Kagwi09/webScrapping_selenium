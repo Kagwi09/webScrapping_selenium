{
 "cells": [
  {
   "cell_type": "markdown",
   "metadata": {},
   "source": [
    "* Webdriver is a dedicated automation library "
   ]
  },
  {
   "cell_type": "code",
   "execution_count": 2,
   "metadata": {},
   "outputs": [],
   "source": [
    "from selenium import webdriver"
   ]
  },
  {
   "cell_type": "markdown",
   "metadata": {},
   "source": [
    "* specify the driver based on the web browser you will use. \n",
    "* its chrome in this case\n",
    "* The driver has to be downloaded separately\n",
    "* The version of the driver you use has to be the same as the version of your web browser\n",
    "* Type chrome://version/ to check the chrome version you are using\n",
    "* Once you download the driver, transfer it to your selenium repository and extract it\n",
    " "
   ]
  },
  {
   "cell_type": "code",
   "execution_count": 4,
   "metadata": {},
   "outputs": [],
   "source": [
    "import os"
   ]
  },
  {
   "cell_type": "markdown",
   "metadata": {},
   "source": [
    "* * Provide the location of the driver in a PATH environment variable"
   ]
  },
  {
   "cell_type": "code",
   "execution_count": 5,
   "metadata": {},
   "outputs": [],
   "source": [
    "os.environ['PATH'] += r\"C:\\Users\\MWANGI\\Documents\\Python Scripts\\selenium\\chromedriver-win64\""
   ]
  },
  {
   "cell_type": "markdown",
   "metadata": {},
   "source": [
    "* run the code below with data ON\n",
    "* If successful, it should open a chrome window"
   ]
  },
  {
   "cell_type": "code",
   "execution_count": 7,
   "metadata": {},
   "outputs": [],
   "source": [
    "driver = webdriver.Chrome()"
   ]
  },
  {
   "cell_type": "markdown",
   "metadata": {},
   "source": [
    "* place the web address of the website into a variable\n",
    "* use the get method to get the html code from the website\n",
    "* use the implicitly_wait method and pass the amount of seconds the website should wait before executing an action on an element. It works in the same way as time.sleep(), but is more efficient.\n",
    "* In case the element is found, the website doesn't wait\n",
    "* This is to prevent an error response when deling with a slow website / server\n",
    "* use the find_element.. method to find the specific html element you are looking for (div, id, css_selector, class_name) etc\n",
    "* use the click method to run the find_element.. method"
   ]
  },
  {
   "cell_type": "code",
   "execution_count": null,
   "metadata": {},
   "outputs": [],
   "source": [
    "url =''\n",
    "driver.get(url)\n",
    "driver.implicitly_wait(30)\n",
    "element = driver.find_element_by('element_name')\n",
    "element.click()"
   ]
  },
  {
   "cell_type": "markdown",
   "metadata": {},
   "source": [
    "* Incase you pass a download button in the find_element method and you want it to print complete once download is complete,you should use explicit waiting\n",
    "* They require additional libraries"
   ]
  },
  {
   "cell_type": "code",
   "execution_count": 9,
   "metadata": {},
   "outputs": [],
   "source": [
    "from selenium.webdriver.common.by import By"
   ]
  },
  {
   "cell_type": "code",
   "execution_count": 10,
   "metadata": {},
   "outputs": [],
   "source": [
    "from selenium.webdriver.support.ui import WebDriverWait"
   ]
  },
  {
   "cell_type": "code",
   "execution_count": 11,
   "metadata": {},
   "outputs": [],
   "source": [
    "from selenium.webdriver.support import expected_conditions as EC"
   ]
  },
  {
   "cell_type": "markdown",
   "metadata": {},
   "source": [
    "* use the WebDriverWait library and pass the driver and the wait time in seconds\n",
    "* add an until method to define the condition that should be true after the wait time is over\n",
    "* pass the expected_conditions(EC) library inside the until library with the required condition\n",
    "    * EC has many conditions for different use cases\n",
    "* pass the By library inside the until library and pass the class name of the progress label window in quotes followed by the expected text in quotes."
   ]
  },
  {
   "cell_type": "code",
   "execution_count": null,
   "metadata": {},
   "outputs": [],
   "source": [
    "WebDriverWait(driver, 30).until(\n",
    "   EC.text_to_be_present_in_element(\n",
    "    (By.CLASS_NAME, 'progress_label'), 'Complete !'   \n",
    "   ) \n",
    ")"
   ]
  },
  {
   "cell_type": "markdown",
   "metadata": {},
   "source": [
    "# SENDING KEYS\n",
    "*They are used to send infomation that is keyed into websites e.g usernames, passwords.\n",
    "    * Basically its info that is input directly into a website"
   ]
  },
  {
   "cell_type": "code",
   "execution_count": null,
   "metadata": {},
   "outputs": [],
   "source": [
    "# get the url amd find the specific element holding the input panel\n",
    "url =''\n",
    "driver.get(url)\n",
    "driver.implicitly_wait(5)\n",
    "key1 = driver.find_element_by('element_name')\n",
    "# send the key\n",
    "# if the key is not a string, don't use quotes\n",
    "key1.send_keys('value')"
   ]
  },
  {
   "cell_type": "markdown",
   "metadata": {},
   "source": [
    "* You can also send keyboard commands lie ctrl, shift and alt, ctrl + c  e.t.c\n",
    "* pass the keys method instead of a value in the keys function\n",
    "* select the keys method and press F12 to get the full set of special keys\n",
    "* You can send multiple keys "
   ]
  },
  {
   "cell_type": "code",
   "execution_count": 1,
   "metadata": {},
   "outputs": [],
   "source": [
    "from selenium.webdriver.common.keys import Keys"
   ]
  },
  {
   "cell_type": "code",
   "execution_count": null,
   "metadata": {},
   "outputs": [],
   "source": [
    "url =''\n",
    "driver.get(url)\n",
    "driver.implicitly_wait(5)\n",
    "key1 = driver.find_element_by('element_name')\n",
    "# send the key\n",
    "# if the key is not a string, don't use quotes\n",
    "key1.send_keys(Keys.NUMPAD1, Keys.NUMPAD5) # sends 15"
   ]
  },
  {
   "cell_type": "markdown",
   "metadata": {},
   "source": [
    "# USING CSS SELECTORS\n",
    "* use html element type followed by matching key value match\n",
    "    * the matching key value is stored in'[]'"
   ]
  },
  {
   "cell_type": "code",
   "execution_count": null,
   "metadata": {},
   "outputs": [],
   "source": [
    "btn = driver.find_element_by_css_selector('button[onclick=\"return total()\"]')\n",
    "btn.click()"
   ]
  }
 ],
 "metadata": {
  "kernelspec": {
   "display_name": "Python 3",
   "language": "python",
   "name": "python3"
  },
  "language_info": {
   "codemirror_mode": {
    "name": "ipython",
    "version": 3
   },
   "file_extension": ".py",
   "mimetype": "text/x-python",
   "name": "python",
   "nbconvert_exporter": "python",
   "pygments_lexer": "ipython3",
   "version": "3.12.2"
  }
 },
 "nbformat": 4,
 "nbformat_minor": 2
}
